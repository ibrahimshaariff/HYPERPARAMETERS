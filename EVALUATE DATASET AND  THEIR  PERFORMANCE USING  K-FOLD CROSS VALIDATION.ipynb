{
 "cells": [
  {
   "cell_type": "markdown",
   "id": "9b3429cc",
   "metadata": {},
   "source": [
    "# KFold Cross Validation."
   ]
  },
  {
   "cell_type": "code",
   "execution_count": 1,
   "id": "6dd465d7",
   "metadata": {},
   "outputs": [],
   "source": [
    "from sklearn.linear_model import LogisticRegression\n",
    "from sklearn.svm import SVC\n",
    "from sklearn.ensemble import RandomForestClassifier\n",
    "import numpy as np\n",
    "from sklearn.datasets import load_digits\n",
    "import matplotlib.pyplot as plt\n",
    "digits = load_digits()"
   ]
  },
  {
   "cell_type": "code",
   "execution_count": 2,
   "id": "2ce2417b",
   "metadata": {},
   "outputs": [],
   "source": [
    "from sklearn.model_selection import train_test_split\n",
    "X_train, X_test, y_train, y_test = train_test_split(digits.data,digits.target,test_size=0.3)"
   ]
  },
  {
   "cell_type": "markdown",
   "id": "3ce2fee4",
   "metadata": {},
   "source": [
    "#### samples we put in these 4 sets X_train, X_test, y_train, y_test changes hence score also changes"
   ]
  },
  {
   "cell_type": "markdown",
   "id": "42912fae",
   "metadata": {},
   "source": [
    "## Logistic Regression."
   ]
  },
  {
   "cell_type": "code",
   "execution_count": 3,
   "id": "dfd36836",
   "metadata": {},
   "outputs": [
    {
     "data": {
      "text/plain": [
       "0.95"
      ]
     },
     "execution_count": 3,
     "metadata": {},
     "output_type": "execute_result"
    }
   ],
   "source": [
    "lr = LogisticRegression(solver='liblinear',multi_class='ovr') #classifier\n",
    "lr.fit(X_train, y_train)\n",
    "lr.score(X_test, y_test)"
   ]
  },
  {
   "cell_type": "markdown",
   "id": "c37b7138",
   "metadata": {},
   "source": [
    "## SVM (Support Vector Machine)"
   ]
  },
  {
   "cell_type": "code",
   "execution_count": 4,
   "id": "fafcbe4b",
   "metadata": {},
   "outputs": [
    {
     "data": {
      "text/plain": [
       "0.44074074074074077"
      ]
     },
     "execution_count": 4,
     "metadata": {},
     "output_type": "execute_result"
    }
   ],
   "source": [
    "svm = SVC(gamma='auto')\n",
    "svm.fit(X_train, y_train)\n",
    "svm.score(X_test, y_test)"
   ]
  },
  {
   "cell_type": "markdown",
   "id": "1813cde1",
   "metadata": {},
   "source": [
    "## Random Forest"
   ]
  },
  {
   "cell_type": "code",
   "execution_count": 5,
   "id": "4b0fc1d9",
   "metadata": {},
   "outputs": [
    {
     "data": {
      "text/plain": [
       "0.9592592592592593"
      ]
     },
     "execution_count": 5,
     "metadata": {},
     "output_type": "execute_result"
    }
   ],
   "source": [
    "rf = RandomForestClassifier(n_estimators=40)\n",
    "rf.fit(X_train, y_train)\n",
    "rf.score(X_test, y_test)"
   ]
  },
  {
   "cell_type": "markdown",
   "id": "35f7ed6b",
   "metadata": {},
   "source": [
    "# KFold cross validation"
   ]
  },
  {
   "cell_type": "markdown",
   "id": "5c56b51c",
   "metadata": {},
   "source": [
    "## Example \n",
    "## step 1 initialization"
   ]
  },
  {
   "cell_type": "code",
   "execution_count": 6,
   "id": "84bbf51d",
   "metadata": {},
   "outputs": [
    {
     "data": {
      "text/plain": [
       "KFold(n_splits=3, random_state=None, shuffle=False)"
      ]
     },
     "execution_count": 6,
     "metadata": {},
     "output_type": "execute_result"
    }
   ],
   "source": [
    "from sklearn.model_selection import KFold\n",
    "kf = KFold(n_splits=3) #3 folds\n",
    "kf"
   ]
  },
  {
   "cell_type": "markdown",
   "id": "73147bc4",
   "metadata": {},
   "source": [
    "#### example\n",
    "#### 1 fold is for testing and remaing 2 folds are for training\n"
   ]
  },
  {
   "cell_type": "code",
   "execution_count": 7,
   "id": "0d16e89f",
   "metadata": {
    "scrolled": true
   },
   "outputs": [
    {
     "name": "stdout",
     "output_type": "stream",
     "text": [
      "[3 4 5 6 7 8] [0 1 2]\n",
      "[0 1 2 6 7 8] [3 4 5]\n",
      "[0 1 2 3 4 5] [6 7 8]\n"
     ]
    }
   ],
   "source": [
    "for train_index, test_index in kf.split([1,2,3,4,5,6,7,8,9]):\n",
    "    print(train_index, test_index)"
   ]
  },
  {
   "cell_type": "markdown",
   "id": "d129a027",
   "metadata": {},
   "source": [
    "## step 2 Use KFold for our digits example"
   ]
  },
  {
   "cell_type": "code",
   "execution_count": 8,
   "id": "76db849b",
   "metadata": {},
   "outputs": [],
   "source": [
    "def get_score(model, X_train, X_test, y_train, y_test):\n",
    "    model.fit(X_train, y_train)\n",
    "    return model.score(X_test, y_test)"
   ]
  },
  {
   "cell_type": "code",
   "execution_count": 23,
   "id": "c3b0a536",
   "metadata": {},
   "outputs": [],
   "source": [
    "from sklearn.model_selection import StratifiedKFold #separation of categories occur in a uniform way\n",
    "folds = StratifiedKFold(n_splits=3) #3 folds\n",
    "#Initializing Lists to Store evaluation Scores\n",
    "scores_logistic = []\n",
    "scores_svm = []\n",
    "scores_rf = []\n",
    "\n",
    "for train_index, test_index in folds.split(digits.data,digits.target): \n",
    "    X_train, X_test, y_train, y_test = digits.data[train_index], digits.data[test_index], \\\n",
    "                                       digits.target[train_index], digits.target[test_index]\n",
    "    scores_logistic.append(get_score(LogisticRegression(solver='liblinear',multi_class='ovr'), X_train, X_test, y_train, y_test))  \n",
    "    scores_svm.append(get_score(SVC(gamma='auto'), X_train, X_test, y_train, y_test))\n",
    "    scores_rf.append(get_score(RandomForestClassifier(n_estimators=40), X_train, X_test, y_train, y_test))"
   ]
  },
  {
   "cell_type": "code",
   "execution_count": 24,
   "id": "b69d2366",
   "metadata": {},
   "outputs": [
    {
     "data": {
      "text/plain": [
       "[0.8948247078464107, 0.9532554257095158, 0.9098497495826378]"
      ]
     },
     "execution_count": 24,
     "metadata": {},
     "output_type": "execute_result"
    }
   ],
   "source": [
    "scores_logistic"
   ]
  },
  {
   "cell_type": "code",
   "execution_count": 25,
   "id": "708c8402",
   "metadata": {},
   "outputs": [
    {
     "data": {
      "text/plain": [
       "[0.3806343906510851, 0.41068447412353926, 0.5125208681135225]"
      ]
     },
     "execution_count": 25,
     "metadata": {},
     "output_type": "execute_result"
    }
   ],
   "source": [
    "scores_svm"
   ]
  },
  {
   "cell_type": "code",
   "execution_count": 26,
   "id": "8019dcca",
   "metadata": {},
   "outputs": [
    {
     "data": {
      "text/plain": [
       "[0.9248747913188647, 0.9465776293823038, 0.9248747913188647]"
      ]
     },
     "execution_count": 26,
     "metadata": {},
     "output_type": "execute_result"
    }
   ],
   "source": [
    "scores_rf"
   ]
  },
  {
   "cell_type": "markdown",
   "id": "cdbdfe63",
   "metadata": {},
   "source": [
    "# cross_val_score function"
   ]
  },
  {
   "cell_type": "code",
   "execution_count": 27,
   "id": "57416ddb",
   "metadata": {},
   "outputs": [],
   "source": [
    "from sklearn.model_selection import cross_val_score"
   ]
  },
  {
   "cell_type": "markdown",
   "id": "12bb4938",
   "metadata": {},
   "source": [
    "## Logistic regression model performance using cross_val_score"
   ]
  },
  {
   "cell_type": "code",
   "execution_count": 28,
   "id": "fee8d8a2",
   "metadata": {},
   "outputs": [
    {
     "data": {
      "text/plain": [
       "array([0.89482471, 0.95325543, 0.90984975])"
      ]
     },
     "execution_count": 28,
     "metadata": {},
     "output_type": "execute_result"
    }
   ],
   "source": [
    "cross_val_score(LogisticRegression(solver='liblinear',multi_class='ovr'), digits.data, digits.target, cv=3) #folds"
   ]
  },
  {
   "cell_type": "markdown",
   "id": "49972dd9",
   "metadata": {},
   "source": [
    "#### solver='liblinear': This is the solver used for the optimization problem in logistic regression.multi_class='ovr': This specifies that the logistic regression should use the \"one-vs-rest\" strategy for multi-class classification."
   ]
  },
  {
   "cell_type": "markdown",
   "id": "b15dba49",
   "metadata": {},
   "source": [
    "## svm model performance using cross_val_score"
   ]
  },
  {
   "cell_type": "code",
   "execution_count": 29,
   "id": "7e0ddaeb",
   "metadata": {},
   "outputs": [
    {
     "data": {
      "text/plain": [
       "array([0.38063439, 0.41068447, 0.51252087])"
      ]
     },
     "execution_count": 29,
     "metadata": {},
     "output_type": "execute_result"
    }
   ],
   "source": [
    "cross_val_score(SVC(gamma='auto'), digits.data, digits.target,cv=3)\n"
   ]
  },
  {
   "cell_type": "markdown",
   "id": "4b5d3520",
   "metadata": {},
   "source": [
    "##### This sets the kernel coefficient for the 'rbf' kernel. 'auto' means that the value of gamma will be set to 1/n_features, where n_features is the number of features in the dataset."
   ]
  },
  {
   "cell_type": "markdown",
   "id": "e7adee32",
   "metadata": {},
   "source": [
    "## random forest performance using cross_val_score"
   ]
  },
  {
   "cell_type": "code",
   "execution_count": 30,
   "id": "52abd932",
   "metadata": {},
   "outputs": [
    {
     "data": {
      "text/plain": [
       "array([0.92320534, 0.95158598, 0.93155259])"
      ]
     },
     "execution_count": 30,
     "metadata": {},
     "output_type": "execute_result"
    }
   ],
   "source": [
    "cross_val_score(RandomForestClassifier(n_estimators=40),digits.data, digits.target,cv=3)"
   ]
  },
  {
   "cell_type": "markdown",
   "id": "76640e80",
   "metadata": {},
   "source": [
    "### cross_val_score uses stratifield kfold by default"
   ]
  },
  {
   "cell_type": "markdown",
   "id": "e3dad111",
   "metadata": {},
   "source": [
    "# Parameter tunning using k fold cross validation"
   ]
  },
  {
   "cell_type": "code",
   "execution_count": 31,
   "id": "f228dd28",
   "metadata": {},
   "outputs": [
    {
     "data": {
      "text/plain": [
       "0.8748075729360645"
      ]
     },
     "execution_count": 31,
     "metadata": {},
     "output_type": "execute_result"
    }
   ],
   "source": [
    "scores1 = cross_val_score(RandomForestClassifier(n_estimators=5),digits.data, digits.target, cv=10)\n",
    "np.average(scores1)"
   ]
  },
  {
   "cell_type": "code",
   "execution_count": 32,
   "id": "59450b11",
   "metadata": {},
   "outputs": [
    {
     "data": {
      "text/plain": [
       "0.9404593420235876"
      ]
     },
     "execution_count": 32,
     "metadata": {},
     "output_type": "execute_result"
    }
   ],
   "source": [
    "scores2 = cross_val_score(RandomForestClassifier(n_estimators=20),digits.data, digits.target, cv=10)\n",
    "np.average(scores2)"
   ]
  },
  {
   "cell_type": "code",
   "execution_count": 33,
   "id": "22320fb6",
   "metadata": {},
   "outputs": [
    {
     "data": {
      "text/plain": [
       "0.9393451272501551"
      ]
     },
     "execution_count": 33,
     "metadata": {},
     "output_type": "execute_result"
    }
   ],
   "source": [
    "scores3 = cross_val_score(RandomForestClassifier(n_estimators=30),digits.data, digits.target, cv=10)\n",
    "np.average(scores3)"
   ]
  },
  {
   "cell_type": "code",
   "execution_count": 34,
   "id": "55b751e1",
   "metadata": {},
   "outputs": [
    {
     "data": {
      "text/plain": [
       "0.9410055865921787"
      ]
     },
     "execution_count": 34,
     "metadata": {},
     "output_type": "execute_result"
    }
   ],
   "source": [
    "scores4 = cross_val_score(RandomForestClassifier(n_estimators=40),digits.data, digits.target, cv=10)\n",
    "np.average(scores4)"
   ]
  },
  {
   "cell_type": "markdown",
   "id": "81de1d4e",
   "metadata": {},
   "source": [
    "### Here we used cross_val_score to fine tune our random forest classifier and figured that having around 40 trees in random forest gives best result."
   ]
  },
  {
   "cell_type": "code",
   "execution_count": null,
   "id": "40e9dc7b",
   "metadata": {},
   "outputs": [],
   "source": []
  }
 ],
 "metadata": {
  "kernelspec": {
   "display_name": "Python 3 (ipykernel)",
   "language": "python",
   "name": "python3"
  },
  "language_info": {
   "codemirror_mode": {
    "name": "ipython",
    "version": 3
   },
   "file_extension": ".py",
   "mimetype": "text/x-python",
   "name": "python",
   "nbconvert_exporter": "python",
   "pygments_lexer": "ipython3",
   "version": "3.11.3"
  }
 },
 "nbformat": 4,
 "nbformat_minor": 5
}
